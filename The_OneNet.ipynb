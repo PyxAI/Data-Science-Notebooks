{
  "nbformat": 4,
  "nbformat_minor": 0,
  "metadata": {
    "colab": {
      "name": "The OneNet",
      "provenance": [],
      "collapsed_sections": [],
      "authorship_tag": "ABX9TyMWNMbR0M7enw/SwEQsHYSL",
      "include_colab_link": true
    },
    "kernelspec": {
      "name": "python3",
      "display_name": "Python 3"
    },
    "widgets": {
      "application/vnd.jupyter.widget-state+json": {
        "617bc8acdea046d69b975a77698057be": {
          "model_module": "@jupyter-widgets/controls",
          "model_name": "HBoxModel",
          "state": {
            "_view_name": "HBoxView",
            "_dom_classes": [],
            "_model_name": "HBoxModel",
            "_view_module": "@jupyter-widgets/controls",
            "_model_module_version": "1.5.0",
            "_view_count": null,
            "_view_module_version": "1.5.0",
            "box_style": "",
            "layout": "IPY_MODEL_e55935e8a28f42c89c44dff674d9438e",
            "_model_module": "@jupyter-widgets/controls",
            "children": [
              "IPY_MODEL_6ce48ee2f80b47eda337be2161c8b829",
              "IPY_MODEL_3539a7dee9bf4a6582a483420b06fa55"
            ]
          }
        },
        "e55935e8a28f42c89c44dff674d9438e": {
          "model_module": "@jupyter-widgets/base",
          "model_name": "LayoutModel",
          "state": {
            "_view_name": "LayoutView",
            "grid_template_rows": null,
            "right": null,
            "justify_content": null,
            "_view_module": "@jupyter-widgets/base",
            "overflow": null,
            "_model_module_version": "1.2.0",
            "_view_count": null,
            "flex_flow": null,
            "width": null,
            "min_width": null,
            "border": null,
            "align_items": null,
            "bottom": null,
            "_model_module": "@jupyter-widgets/base",
            "top": null,
            "grid_column": null,
            "overflow_y": null,
            "overflow_x": null,
            "grid_auto_flow": null,
            "grid_area": null,
            "grid_template_columns": null,
            "flex": null,
            "_model_name": "LayoutModel",
            "justify_items": null,
            "grid_row": null,
            "max_height": null,
            "align_content": null,
            "visibility": null,
            "align_self": null,
            "height": null,
            "min_height": null,
            "padding": null,
            "grid_auto_rows": null,
            "grid_gap": null,
            "max_width": null,
            "order": null,
            "_view_module_version": "1.2.0",
            "grid_template_areas": null,
            "object_position": null,
            "object_fit": null,
            "grid_auto_columns": null,
            "margin": null,
            "display": null,
            "left": null
          }
        },
        "6ce48ee2f80b47eda337be2161c8b829": {
          "model_module": "@jupyter-widgets/controls",
          "model_name": "FloatProgressModel",
          "state": {
            "_view_name": "ProgressView",
            "style": "IPY_MODEL_3f320a81b747460f97221bfff77d7ec4",
            "_dom_classes": [],
            "description": "",
            "_model_name": "FloatProgressModel",
            "bar_style": "info",
            "max": 1,
            "_view_module": "@jupyter-widgets/controls",
            "_model_module_version": "1.5.0",
            "value": 1,
            "_view_count": null,
            "_view_module_version": "1.5.0",
            "orientation": "horizontal",
            "min": 0,
            "description_tooltip": null,
            "_model_module": "@jupyter-widgets/controls",
            "layout": "IPY_MODEL_27c66ceeb0a941c1864f57f7e18756ad"
          }
        },
        "3539a7dee9bf4a6582a483420b06fa55": {
          "model_module": "@jupyter-widgets/controls",
          "model_name": "HTMLModel",
          "state": {
            "_view_name": "HTMLView",
            "style": "IPY_MODEL_7bf152d7017f41a4bfd6b635a72a3a40",
            "_dom_classes": [],
            "description": "",
            "_model_name": "HTMLModel",
            "placeholder": "​",
            "_view_module": "@jupyter-widgets/controls",
            "_model_module_version": "1.5.0",
            "value": " 170500096/? [00:20&lt;00:00, 29047062.39it/s]",
            "_view_count": null,
            "_view_module_version": "1.5.0",
            "description_tooltip": null,
            "_model_module": "@jupyter-widgets/controls",
            "layout": "IPY_MODEL_f11ce131a9b145548b020686f63276e6"
          }
        },
        "3f320a81b747460f97221bfff77d7ec4": {
          "model_module": "@jupyter-widgets/controls",
          "model_name": "ProgressStyleModel",
          "state": {
            "_view_name": "StyleView",
            "_model_name": "ProgressStyleModel",
            "description_width": "initial",
            "_view_module": "@jupyter-widgets/base",
            "_model_module_version": "1.5.0",
            "_view_count": null,
            "_view_module_version": "1.2.0",
            "bar_color": null,
            "_model_module": "@jupyter-widgets/controls"
          }
        },
        "27c66ceeb0a941c1864f57f7e18756ad": {
          "model_module": "@jupyter-widgets/base",
          "model_name": "LayoutModel",
          "state": {
            "_view_name": "LayoutView",
            "grid_template_rows": null,
            "right": null,
            "justify_content": null,
            "_view_module": "@jupyter-widgets/base",
            "overflow": null,
            "_model_module_version": "1.2.0",
            "_view_count": null,
            "flex_flow": null,
            "width": null,
            "min_width": null,
            "border": null,
            "align_items": null,
            "bottom": null,
            "_model_module": "@jupyter-widgets/base",
            "top": null,
            "grid_column": null,
            "overflow_y": null,
            "overflow_x": null,
            "grid_auto_flow": null,
            "grid_area": null,
            "grid_template_columns": null,
            "flex": null,
            "_model_name": "LayoutModel",
            "justify_items": null,
            "grid_row": null,
            "max_height": null,
            "align_content": null,
            "visibility": null,
            "align_self": null,
            "height": null,
            "min_height": null,
            "padding": null,
            "grid_auto_rows": null,
            "grid_gap": null,
            "max_width": null,
            "order": null,
            "_view_module_version": "1.2.0",
            "grid_template_areas": null,
            "object_position": null,
            "object_fit": null,
            "grid_auto_columns": null,
            "margin": null,
            "display": null,
            "left": null
          }
        },
        "7bf152d7017f41a4bfd6b635a72a3a40": {
          "model_module": "@jupyter-widgets/controls",
          "model_name": "DescriptionStyleModel",
          "state": {
            "_view_name": "StyleView",
            "_model_name": "DescriptionStyleModel",
            "description_width": "",
            "_view_module": "@jupyter-widgets/base",
            "_model_module_version": "1.5.0",
            "_view_count": null,
            "_view_module_version": "1.2.0",
            "_model_module": "@jupyter-widgets/controls"
          }
        },
        "f11ce131a9b145548b020686f63276e6": {
          "model_module": "@jupyter-widgets/base",
          "model_name": "LayoutModel",
          "state": {
            "_view_name": "LayoutView",
            "grid_template_rows": null,
            "right": null,
            "justify_content": null,
            "_view_module": "@jupyter-widgets/base",
            "overflow": null,
            "_model_module_version": "1.2.0",
            "_view_count": null,
            "flex_flow": null,
            "width": null,
            "min_width": null,
            "border": null,
            "align_items": null,
            "bottom": null,
            "_model_module": "@jupyter-widgets/base",
            "top": null,
            "grid_column": null,
            "overflow_y": null,
            "overflow_x": null,
            "grid_auto_flow": null,
            "grid_area": null,
            "grid_template_columns": null,
            "flex": null,
            "_model_name": "LayoutModel",
            "justify_items": null,
            "grid_row": null,
            "max_height": null,
            "align_content": null,
            "visibility": null,
            "align_self": null,
            "height": null,
            "min_height": null,
            "padding": null,
            "grid_auto_rows": null,
            "grid_gap": null,
            "max_width": null,
            "order": null,
            "_view_module_version": "1.2.0",
            "grid_template_areas": null,
            "object_position": null,
            "object_fit": null,
            "grid_auto_columns": null,
            "margin": null,
            "display": null,
            "left": null
          }
        },
        "e7c1ab97072e4ce197eb31aa6635bff2": {
          "model_module": "@jupyter-widgets/controls",
          "model_name": "HBoxModel",
          "state": {
            "_view_name": "HBoxView",
            "_dom_classes": [],
            "_model_name": "HBoxModel",
            "_view_module": "@jupyter-widgets/controls",
            "_model_module_version": "1.5.0",
            "_view_count": null,
            "_view_module_version": "1.5.0",
            "box_style": "",
            "layout": "IPY_MODEL_9b0c7109502648f08b31425825a60339",
            "_model_module": "@jupyter-widgets/controls",
            "children": [
              "IPY_MODEL_2fd3d9caf3ba490eb359c7b2776ad471",
              "IPY_MODEL_13e2cc3c39504e7382804886c9536895"
            ]
          }
        },
        "9b0c7109502648f08b31425825a60339": {
          "model_module": "@jupyter-widgets/base",
          "model_name": "LayoutModel",
          "state": {
            "_view_name": "LayoutView",
            "grid_template_rows": null,
            "right": null,
            "justify_content": null,
            "_view_module": "@jupyter-widgets/base",
            "overflow": null,
            "_model_module_version": "1.2.0",
            "_view_count": null,
            "flex_flow": null,
            "width": null,
            "min_width": null,
            "border": null,
            "align_items": null,
            "bottom": null,
            "_model_module": "@jupyter-widgets/base",
            "top": null,
            "grid_column": null,
            "overflow_y": null,
            "overflow_x": null,
            "grid_auto_flow": null,
            "grid_area": null,
            "grid_template_columns": null,
            "flex": null,
            "_model_name": "LayoutModel",
            "justify_items": null,
            "grid_row": null,
            "max_height": null,
            "align_content": null,
            "visibility": null,
            "align_self": null,
            "height": null,
            "min_height": null,
            "padding": null,
            "grid_auto_rows": null,
            "grid_gap": null,
            "max_width": null,
            "order": null,
            "_view_module_version": "1.2.0",
            "grid_template_areas": null,
            "object_position": null,
            "object_fit": null,
            "grid_auto_columns": null,
            "margin": null,
            "display": null,
            "left": null
          }
        },
        "2fd3d9caf3ba490eb359c7b2776ad471": {
          "model_module": "@jupyter-widgets/controls",
          "model_name": "FloatProgressModel",
          "state": {
            "_view_name": "ProgressView",
            "style": "IPY_MODEL_0bfd7f13d90a4627814581ebf883cb67",
            "_dom_classes": [],
            "description": "100%",
            "_model_name": "FloatProgressModel",
            "bar_style": "success",
            "max": 46827520,
            "_view_module": "@jupyter-widgets/controls",
            "_model_module_version": "1.5.0",
            "value": 46827520,
            "_view_count": null,
            "_view_module_version": "1.5.0",
            "orientation": "horizontal",
            "min": 0,
            "description_tooltip": null,
            "_model_module": "@jupyter-widgets/controls",
            "layout": "IPY_MODEL_b2ee4f62670a419ca5efafc43bf14d69"
          }
        },
        "13e2cc3c39504e7382804886c9536895": {
          "model_module": "@jupyter-widgets/controls",
          "model_name": "HTMLModel",
          "state": {
            "_view_name": "HTMLView",
            "style": "IPY_MODEL_8f786b62b6ab4266888c7f7c3309054c",
            "_dom_classes": [],
            "description": "",
            "_model_name": "HTMLModel",
            "placeholder": "​",
            "_view_module": "@jupyter-widgets/controls",
            "_model_module_version": "1.5.0",
            "value": " 44.7M/44.7M [00:00&lt;00:00, 120MB/s]",
            "_view_count": null,
            "_view_module_version": "1.5.0",
            "description_tooltip": null,
            "_model_module": "@jupyter-widgets/controls",
            "layout": "IPY_MODEL_c7be9d1f064d481bb658f225e2a0d9c4"
          }
        },
        "0bfd7f13d90a4627814581ebf883cb67": {
          "model_module": "@jupyter-widgets/controls",
          "model_name": "ProgressStyleModel",
          "state": {
            "_view_name": "StyleView",
            "_model_name": "ProgressStyleModel",
            "description_width": "initial",
            "_view_module": "@jupyter-widgets/base",
            "_model_module_version": "1.5.0",
            "_view_count": null,
            "_view_module_version": "1.2.0",
            "bar_color": null,
            "_model_module": "@jupyter-widgets/controls"
          }
        },
        "b2ee4f62670a419ca5efafc43bf14d69": {
          "model_module": "@jupyter-widgets/base",
          "model_name": "LayoutModel",
          "state": {
            "_view_name": "LayoutView",
            "grid_template_rows": null,
            "right": null,
            "justify_content": null,
            "_view_module": "@jupyter-widgets/base",
            "overflow": null,
            "_model_module_version": "1.2.0",
            "_view_count": null,
            "flex_flow": null,
            "width": null,
            "min_width": null,
            "border": null,
            "align_items": null,
            "bottom": null,
            "_model_module": "@jupyter-widgets/base",
            "top": null,
            "grid_column": null,
            "overflow_y": null,
            "overflow_x": null,
            "grid_auto_flow": null,
            "grid_area": null,
            "grid_template_columns": null,
            "flex": null,
            "_model_name": "LayoutModel",
            "justify_items": null,
            "grid_row": null,
            "max_height": null,
            "align_content": null,
            "visibility": null,
            "align_self": null,
            "height": null,
            "min_height": null,
            "padding": null,
            "grid_auto_rows": null,
            "grid_gap": null,
            "max_width": null,
            "order": null,
            "_view_module_version": "1.2.0",
            "grid_template_areas": null,
            "object_position": null,
            "object_fit": null,
            "grid_auto_columns": null,
            "margin": null,
            "display": null,
            "left": null
          }
        },
        "8f786b62b6ab4266888c7f7c3309054c": {
          "model_module": "@jupyter-widgets/controls",
          "model_name": "DescriptionStyleModel",
          "state": {
            "_view_name": "StyleView",
            "_model_name": "DescriptionStyleModel",
            "description_width": "",
            "_view_module": "@jupyter-widgets/base",
            "_model_module_version": "1.5.0",
            "_view_count": null,
            "_view_module_version": "1.2.0",
            "_model_module": "@jupyter-widgets/controls"
          }
        },
        "c7be9d1f064d481bb658f225e2a0d9c4": {
          "model_module": "@jupyter-widgets/base",
          "model_name": "LayoutModel",
          "state": {
            "_view_name": "LayoutView",
            "grid_template_rows": null,
            "right": null,
            "justify_content": null,
            "_view_module": "@jupyter-widgets/base",
            "overflow": null,
            "_model_module_version": "1.2.0",
            "_view_count": null,
            "flex_flow": null,
            "width": null,
            "min_width": null,
            "border": null,
            "align_items": null,
            "bottom": null,
            "_model_module": "@jupyter-widgets/base",
            "top": null,
            "grid_column": null,
            "overflow_y": null,
            "overflow_x": null,
            "grid_auto_flow": null,
            "grid_area": null,
            "grid_template_columns": null,
            "flex": null,
            "_model_name": "LayoutModel",
            "justify_items": null,
            "grid_row": null,
            "max_height": null,
            "align_content": null,
            "visibility": null,
            "align_self": null,
            "height": null,
            "min_height": null,
            "padding": null,
            "grid_auto_rows": null,
            "grid_gap": null,
            "max_width": null,
            "order": null,
            "_view_module_version": "1.2.0",
            "grid_template_areas": null,
            "object_position": null,
            "object_fit": null,
            "grid_auto_columns": null,
            "margin": null,
            "display": null,
            "left": null
          }
        }
      }
    }
  },
  "cells": [
    {
      "cell_type": "markdown",
      "metadata": {
        "id": "view-in-github",
        "colab_type": "text"
      },
      "source": [
        "<a href=\"https://colab.research.google.com/github/PyxAI/Data-Science-Notebooks/blob/master/The_OneNet.ipynb\" target=\"_parent\"><img src=\"https://colab.research.google.com/assets/colab-badge.svg\" alt=\"Open In Colab\"/></a>"
      ]
    },
    {
      "cell_type": "markdown",
      "metadata": {
        "id": "MltUfww0oNgn",
        "colab_type": "text"
      },
      "source": [
        "In this experiment, I'm testing if a few pretrained networks can achieve better results together.\n",
        "\n",
        "The approach is a combination of feature extraction and fine-tunning.\n",
        "\n",
        "So, The idea here is the use pretrained networks, and not change the weights in the main body of the CNN, but rather, train the (augmented) classifier at the end. \n",
        "\n",
        "Backpropagation will take into consideration both networks for minimizing the loss, thus adjusting the weights of the fully connected layer(s) accordingly.\n",
        "\n",
        "---\n",
        "---\n",
        "Bottom line conclusion:\n",
        "\n",
        "**The new network demonstrates superior results over the best child pretrained network used in training.**\n",
        "\n",
        "The most significant improvement can be seen on **unseen** data, which makes it interesting to think how we can build a network that uses a lot of pretrained knowledge, to quickly converge on new data. \n",
        "\n",
        "That is what I aimed for in this experiment"
      ]
    },
    {
      "cell_type": "code",
      "metadata": {
        "id": "e079am2gkawC",
        "colab_type": "code",
        "colab": {}
      },
      "source": [
        "import numpy as np\n",
        "import pandas as pd\n",
        "import matplotlib.pyplot as plt\n",
        "import random\n",
        "import os\n",
        "\n",
        "import torch\n",
        "import torch.nn.functional as F\n",
        "from torch import nn\n",
        "from torchvision import models\n",
        "from torchvision import datasets\n",
        "from torchvision.transforms import transforms\n",
        "from torch.utils.data import DataLoader\n",
        "from google.colab import drive\n",
        "\n",
        "if torch.cuda.is_available():\n",
        "  device = torch.device('cuda')\n",
        "  dtype = torch.cuda.FloatTensor\n",
        "else:\n",
        "  device = torch.device('cpu')\n",
        "  dtype = torch.FloatTensor\n",
        "\n",
        "\n",
        "!git clone https://github.com/aaron-xichen/pytorch-playground\n",
        "os.chdir('pytorch-playground')\n",
        "!python3 setup.py develop --user\n",
        "os.chdir('/content/')\n",
        "\n",
        "!pip install timm\n",
        "import timm\n",
        "\n",
        "drive.mount('/content/gdrive')\n",
        "!mkdir /content/weights\n",
        "!cp /content/gdrive/My\\ Drive/weights/resnet18_cifar.pt /content/weights/"
      ],
      "execution_count": 0,
      "outputs": []
    },
    {
      "cell_type": "code",
      "metadata": {
        "id": "TOSbq1BW-y_B",
        "colab_type": "code",
        "colab": {}
      },
      "source": [
        "\n",
        "# Checking the accuracy and loss of the network on the giving dataset\n",
        "def validate(network, dset):\n",
        "  network.eval()\n",
        "  correct = 0\n",
        "  total = 0\n",
        "  with torch.no_grad():\n",
        "    loss = 0\n",
        "    for x, y in dset:\n",
        "      x = x.to(device)\n",
        "      y = y.to(device)\n",
        "      output = network(x)\n",
        "      loss += loss_fn(output, y)\n",
        "      _, predicted = torch.max(output.data, 1)\n",
        "      total += y.size(0)\n",
        "      correct += (predicted == y).sum().item()\n",
        "    loss/= len(dset)\n",
        "    print (\"validation loss: {:.4f}\".format(loss))\n",
        "    print (\"accuracy here is: {}\".format(100 * correct / total))\n",
        "  return loss.detach().item()\n",
        "\n",
        "# To ignore the last FC layer of the network\n",
        "class Identity(nn.Module):\n",
        "    def __init__(self):\n",
        "        super(Identity, self).__init__()\n",
        "    def forward(self, x):\n",
        "        return x\n",
        "\n",
        "#Our very simple trainning loop\n",
        "def run_train(network):\n",
        "  loss_arr = []\n",
        "  try:\n",
        "    for epoch in range(epochs):\n",
        "      for iteration, (x, y) in enumerate(train):\n",
        "        network.train()\n",
        "        x = x.to(device)\n",
        "        y = y.to(device)\n",
        "        optim.zero_grad()\n",
        "        output = network(x)\n",
        "        loss = loss_fn(output, y)\n",
        "        loss.backward()\n",
        "        if (iteration % print_every == 0):\n",
        "          print (\"epoch: {}, iter:{}\".format(epoch, iteration))\n",
        "          loss_arr.append(validate(network, val))\n",
        "        optim.step()\n",
        "    plt.plot(loss_arr)\n",
        "    plt.show()\n",
        "  except KeyboardInterrupt:\n",
        "    plt.plot(loss_arr)\n",
        "    plt.show()\n",
        "\n"
      ],
      "execution_count": 0,
      "outputs": []
    },
    {
      "cell_type": "markdown",
      "metadata": {
        "id": "ek3B9xihR_TM",
        "colab_type": "text"
      },
      "source": [
        "##Settings"
      ]
    },
    {
      "cell_type": "code",
      "metadata": {
        "id": "Hsy-v8ZSEM2R",
        "colab_type": "code",
        "colab": {}
      },
      "source": [
        "#Training\n",
        "batch_size = 64\n",
        "lr = 1e-4\n",
        "epochs=20\n",
        "print_every = 100\n",
        "\n",
        "#Dataset\n",
        "cifar_root = '/content/data/cifar10'\n",
        "cifar_transform = transforms.Compose(\n",
        "    [transforms.ToTensor(),\n",
        "     transforms.Normalize(mean=[0.485, 0.456, 0.406], std=[0.229, 0.224, 0.225]) # As recommended for torchvision\n",
        "    ])\n"
      ],
      "execution_count": 0,
      "outputs": []
    },
    {
      "cell_type": "markdown",
      "metadata": {
        "id": "m1Y5SbrM_Bub",
        "colab_type": "text"
      },
      "source": [
        "#Dataset"
      ]
    },
    {
      "cell_type": "code",
      "metadata": {
        "id": "_v0JKLTy3YwT",
        "colab_type": "code",
        "outputId": "ac17445c-24e5-45b1-d5a6-533e6b675b13",
        "colab": {
          "base_uri": "https://localhost:8080/",
          "height": 99,
          "referenced_widgets": [
            "617bc8acdea046d69b975a77698057be",
            "e55935e8a28f42c89c44dff674d9438e",
            "6ce48ee2f80b47eda337be2161c8b829",
            "3539a7dee9bf4a6582a483420b06fa55",
            "3f320a81b747460f97221bfff77d7ec4",
            "27c66ceeb0a941c1864f57f7e18756ad",
            "7bf152d7017f41a4bfd6b635a72a3a40",
            "f11ce131a9b145548b020686f63276e6"
          ]
        }
      },
      "source": [
        "#Take Cifar10\n",
        "cifar = datasets.CIFAR10(cifar_root, train=True, download=True, transform=cifar_transform)\n",
        "\n",
        "#split to train - val\n",
        "train_set, val_set = torch.utils.data.random_split(cifar, [int(len(cifar)*0.9), int(len(cifar)*0.1)])\n",
        "train = DataLoader(train_set, batch_size = batch_size, shuffle=True, num_workers = 4)\n",
        "val = DataLoader(val_set, batch_size = batch_size, shuffle=True, num_workers = 4)\n",
        "\n",
        "#test set\n",
        "cifar = datasets.CIFAR10(cifar_root, train=False, download=True, transform=cifar_transform)\n",
        "test = DataLoader(cifar, batch_size = batch_size, shuffle=True, num_workers = 4)\n",
        "\n",
        "loss_fn = nn.CrossEntropyLoss()"
      ],
      "execution_count": 6,
      "outputs": [
        {
          "output_type": "stream",
          "text": [
            "Downloading https://www.cs.toronto.edu/~kriz/cifar-10-python.tar.gz to /content/data/cifar10/cifar-10-python.tar.gz\n"
          ],
          "name": "stdout"
        },
        {
          "output_type": "display_data",
          "data": {
            "application/vnd.jupyter.widget-view+json": {
              "model_id": "617bc8acdea046d69b975a77698057be",
              "version_minor": 0,
              "version_major": 2
            },
            "text/plain": [
              "HBox(children=(FloatProgress(value=1.0, bar_style='info', max=1.0), HTML(value='')))"
            ]
          },
          "metadata": {
            "tags": []
          }
        },
        {
          "output_type": "stream",
          "text": [
            "Extracting /content/data/cifar10/cifar-10-python.tar.gz to /content/data/cifar10\n",
            "Files already downloaded and verified\n"
          ],
          "name": "stdout"
        }
      ]
    },
    {
      "cell_type": "markdown",
      "metadata": {
        "id": "yfL2R8Ao0s8J",
        "colab_type": "text"
      },
      "source": [
        "##Model setup"
      ]
    },
    {
      "cell_type": "markdown",
      "metadata": {
        "id": "lXCeEU_uEO1_",
        "colab_type": "text"
      },
      "source": [
        "Source: https://github.com/aaron-xichen/pytorch-playground\n",
        "\n",
        "Pretrained weight on cifar100"
      ]
    },
    {
      "cell_type": "code",
      "metadata": {
        "id": "2zxWGrUkG73v",
        "colab_type": "code",
        "colab": {}
      },
      "source": [
        "import torch\n",
        "from torch.autograd import Variable\n",
        "os.chdir('pytorch-playground')\n",
        "from utee import selector\n",
        "cifar100, ds_fetcher, is_imagenet = selector.select('cifar100')\n",
        "ds_val = ds_fetcher(batch_size=10, train=False, val=True)\n",
        "for idx, (data, target) in enumerate(ds_val):\n",
        "    data =  Variable(torch.FloatTensor(data)).cuda()\n",
        "    output = cifar100(data)\n",
        "\n",
        "cifar100.classifier = nn.Linear(cifar100.classifier[0].in_features, 10, bias=True)"
      ],
      "execution_count": 0,
      "outputs": []
    },
    {
      "cell_type": "markdown",
      "metadata": {
        "id": "dfJcs7bAEUCv",
        "colab_type": "text"
      },
      "source": [
        "Source: https://github.com/rwightman/pytorch-image-models\n",
        "\n",
        "Pretrained on ImageNet"
      ]
    },
    {
      "cell_type": "code",
      "metadata": {
        "id": "-gbdKMger_p0",
        "colab_type": "code",
        "outputId": "c6c79de1-619d-44d3-c4d4-e3c3be3f058d",
        "colab": {
          "base_uri": "https://localhost:8080/",
          "height": 54
        }
      },
      "source": [
        "mixnet = timm.create_model('mixnet_xl', pretrained=True)\n",
        "mixnet.classifier = nn.Linear(mixnet.classifier.in_features, 10, bias=True)"
      ],
      "execution_count": 11,
      "outputs": [
        {
          "output_type": "stream",
          "text": [
            "Downloading: \"https://github.com/rwightman/pytorch-image-models/releases/download/v0.1-weights/mixnet_xl_ra-aac3c00c.pth\" to /root/.cache/torch/checkpoints/mixnet_xl_ra-aac3c00c.pth\n"
          ],
          "name": "stderr"
        }
      ]
    },
    {
      "cell_type": "markdown",
      "metadata": {
        "id": "g-BkQGWBEhPJ",
        "colab_type": "text"
      },
      "source": [
        "Pretrained on CIFAR-10"
      ]
    },
    {
      "cell_type": "code",
      "metadata": {
        "id": "vmT8uif3Evid",
        "colab_type": "code",
        "colab": {
          "base_uri": "https://localhost:8080/",
          "height": 34
        },
        "outputId": "f1ae0c52-c898-446c-93a9-6b6a01339d50"
      },
      "source": [
        "resnet18A = models.resnet18(pretrained=False)\n",
        "resnet18A._modules['fc']= nn.Linear(512, 10) #To make it CIFARable\n",
        "resnet18A.load_state_dict(torch.load('/content/gdrive/My Drive/weights/ready_resnet18_cifar.pt', map_location=torch.device(device)))\n"
      ],
      "execution_count": 12,
      "outputs": [
        {
          "output_type": "execute_result",
          "data": {
            "text/plain": [
              "<All keys matched successfully>"
            ]
          },
          "metadata": {
            "tags": []
          },
          "execution_count": 12
        }
      ]
    },
    {
      "cell_type": "markdown",
      "metadata": {
        "id": "dKNIWyCAEvsd",
        "colab_type": "text"
      },
      "source": [
        "Torch model trained on ImageNet"
      ]
    },
    {
      "cell_type": "code",
      "metadata": {
        "id": "aIw6Poi1Ev0x",
        "colab_type": "code",
        "colab": {
          "base_uri": "https://localhost:8080/",
          "height": 102,
          "referenced_widgets": [
            "e7c1ab97072e4ce197eb31aa6635bff2",
            "9b0c7109502648f08b31425825a60339",
            "2fd3d9caf3ba490eb359c7b2776ad471",
            "13e2cc3c39504e7382804886c9536895",
            "0bfd7f13d90a4627814581ebf883cb67",
            "b2ee4f62670a419ca5efafc43bf14d69",
            "8f786b62b6ab4266888c7f7c3309054c",
            "c7be9d1f064d481bb658f225e2a0d9c4"
          ]
        },
        "outputId": "fa35e9b6-cdd0-43af-e239-15dde521e4d2"
      },
      "source": [
        "resnet18B = models.resnet18(pretrained=True)\n",
        "resnet18B.fc = nn.Linear(in_features=resnet18B.fc.in_features, out_features=10, bias=True)"
      ],
      "execution_count": 13,
      "outputs": [
        {
          "output_type": "stream",
          "text": [
            "Downloading: \"https://download.pytorch.org/models/resnet18-5c106cde.pth\" to /root/.cache/torch/checkpoints/resnet18-5c106cde.pth\n"
          ],
          "name": "stderr"
        },
        {
          "output_type": "display_data",
          "data": {
            "application/vnd.jupyter.widget-view+json": {
              "model_id": "e7c1ab97072e4ce197eb31aa6635bff2",
              "version_minor": 0,
              "version_major": 2
            },
            "text/plain": [
              "HBox(children=(FloatProgress(value=0.0, max=46827520.0), HTML(value='')))"
            ]
          },
          "metadata": {
            "tags": []
          }
        },
        {
          "output_type": "stream",
          "text": [
            "\n"
          ],
          "name": "stdout"
        }
      ]
    },
    {
      "cell_type": "markdown",
      "metadata": {
        "id": "W_1hWCos04nf",
        "colab_type": "text"
      },
      "source": [
        "A basic idea here is to only train the classifier, while relying on the trained networks to extract features as best they can.\n",
        "\n",
        "So here we are shutting down grad on everything but FC layer\n"
      ]
    },
    {
      "cell_type": "code",
      "metadata": {
        "id": "YieqZXblFqiO",
        "colab_type": "code",
        "colab": {}
      },
      "source": [
        "#Shutting down grad on everything but FC layer\n",
        "for net in [cifar100,mixnet,resnet18B,resnet18A]:\n",
        "  for param in net.named_parameters():\n",
        "    if not any(['body' in param[0], 'fc' in param[0], 'classifier' in param[0]]):\n",
        "      param[1].requires_grad=False"
      ],
      "execution_count": 0,
      "outputs": []
    },
    {
      "cell_type": "markdown",
      "metadata": {
        "id": "UWQlkiAFCLAI",
        "colab_type": "text"
      },
      "source": [
        "We will now train the classifier of each network on CIFAR10,  under the same conditions, for the same amount of epochs, to see how good it can get on it's own."
      ]
    },
    {
      "cell_type": "markdown",
      "metadata": {
        "id": "j6Y5PAxQIhwD",
        "colab_type": "text"
      },
      "source": [
        "# Banchmark runs"
      ]
    },
    {
      "cell_type": "markdown",
      "metadata": {
        "id": "JbijNF7MfT7E",
        "colab_type": "text"
      },
      "source": [
        "The first network, that was trained on the CIFAR100 achieved these results:\n",
        "\n",
        " > Validation loss: 0.5378\n",
        "  \n",
        " > Validation accuracy: 81.2%\n",
        "\n",
        "\n"
      ]
    },
    {
      "cell_type": "code",
      "metadata": {
        "id": "J3MTLle92JMW",
        "colab_type": "code",
        "colab": {}
      },
      "source": [
        "# Training code\n",
        "\n",
        "optim = torch.optim.Adam(cifar100.parameters(), lr=lr)\n",
        "cifar100.to(device)\n",
        "run_train(cifar100)"
      ],
      "execution_count": 0,
      "outputs": []
    },
    {
      "cell_type": "markdown",
      "metadata": {
        "id": "qt_nxL0IfQYD",
        "colab_type": "text"
      },
      "source": [
        "The second network, mixnet I stopped after 10 epochs since it wasn't even close to good results:\n",
        "\n",
        "\n",
        "> Validation loss: 1.7438\n",
        "\n",
        "> Validation accuracy: 40.86 %"
      ]
    },
    {
      "cell_type": "code",
      "metadata": {
        "id": "giDVmfI_FTK6",
        "colab_type": "code",
        "colab": {}
      },
      "source": [
        "# Training code\n",
        "\n",
        "optim = torch.optim.Adam(mixnet.parameters(), lr=lr)\n",
        "mixnet.to(device)\n",
        "run_train(mixnet)"
      ],
      "execution_count": 0,
      "outputs": []
    },
    {
      "cell_type": "markdown",
      "metadata": {
        "id": "0Gmrw28FfGYk",
        "colab_type": "text"
      },
      "source": [
        "The following network, resnet18B, was trained on ImageNet and achieved:\n",
        "\n",
        "> Validation loss: 1.5685\n",
        "\n",
        "> Validation accuracy: 45.8 %"
      ]
    },
    {
      "cell_type": "code",
      "metadata": {
        "id": "ChKhtjcmFTTn",
        "colab_type": "code",
        "colab": {}
      },
      "source": [
        "# Training code\n",
        "\n",
        "optim = torch.optim.Adam(resnet18B.parameters(), lr=lr)\n",
        "resnet18B.to(device)\n",
        "run_train(resnet18B)"
      ],
      "execution_count": 0,
      "outputs": []
    },
    {
      "cell_type": "markdown",
      "metadata": {
        "id": "Nn-8H-97e7B9",
        "colab_type": "text"
      },
      "source": [
        "The following network, Renset18A, The network that is pretrained on CIFAR10 got:\n",
        "\n",
        "> Validation loss: 0.1200\n",
        "\n",
        "> Validation accuracy: 97.22 %"
      ]
    },
    {
      "cell_type": "code",
      "metadata": {
        "id": "dFl24SWYFTZG",
        "colab_type": "code",
        "colab": {}
      },
      "source": [
        "# Training code\n",
        "\n",
        "optim = torch.optim.Adam(resnet18A.parameters(), lr=lr)\n",
        "resnet18A.to(device)\n",
        "run_train(resnet18A)"
      ],
      "execution_count": 0,
      "outputs": []
    },
    {
      "cell_type": "markdown",
      "metadata": {
        "id": "uk9Dpti3ErON",
        "colab_type": "text"
      },
      "source": [
        "#Real testing begins:\n",
        "\n",
        "mixing the networks.\n",
        "\n",
        "Starting from setting the last layer to output 512"
      ]
    },
    {
      "cell_type": "code",
      "metadata": {
        "id": "ZLeT5_sLUZm_",
        "colab_type": "code",
        "colab": {}
      },
      "source": [
        "resnet18A.fc = Identity()\n",
        "resnet18B.fc = Identity()\n",
        "cifar100.classifier = nn.Linear(cifar100.classifier.in_features, 512, bias=True)\n",
        "mixnet.classifier = nn.Linear(mixnet.classifier.in_features, 512, bias=True)"
      ],
      "execution_count": 0,
      "outputs": []
    },
    {
      "cell_type": "code",
      "metadata": {
        "id": "jGJjodY4bbvY",
        "colab_type": "code",
        "colab": {}
      },
      "source": [
        "\n",
        "\"\"\"\n",
        "Our unifying class.\n",
        "The class unified networks by concatenating the extracted features of the networks\n",
        "And uses a (Linear) classifier on top of that.\n",
        "\"\"\"\n",
        "class Onet(nn.Module):\n",
        "  def __init__(self, networks):\n",
        "    super(Onet, self).__init__()\n",
        "    #Here we should take as input all the different pretrained networks.\n",
        "    self.networks = networks\n",
        "    self.pilesize = len(self.networks)\n",
        "    for net in self.networks:\n",
        "      net.to(device)\n",
        "\n",
        "    #Classifier\n",
        "    self.body = nn.Sequential(\n",
        "        nn.Linear(512*self.pilesize, 512),\n",
        "        nn.LeakyReLU(),\n",
        "        nn.Linear(512, 10)\n",
        "    )\n",
        "\n",
        "  def forward(self, image):\n",
        "    joined = torch.Tensor(0).to(device)\n",
        "    # Run a forward pass in each of the networks, then concatenate them.\n",
        "    for net in self.networks:\n",
        "      x = net(image)\n",
        "      joined = torch.cat((x, joined), dim=1)\n",
        "    # Activation layer, and send to classification.\n",
        "    x = F.leaky_relu(joined)\n",
        "    x = self.body(x)\n",
        "    return x\n"
      ],
      "execution_count": 0,
      "outputs": []
    },
    {
      "cell_type": "code",
      "metadata": {
        "id": "9mpsFP3ubT-E",
        "colab_type": "code",
        "colab": {}
      },
      "source": [
        "# Creating the network instance\n",
        "\n",
        "networks = [resnet18B, mixnet, cifar100]\n",
        "onet = Onet(networks)\n",
        "onet.to(device)\n",
        "\n",
        "# Always Adam.\n",
        "optim = torch.optim.Adam(onet.parameters(), lr=lr)\n",
        "\n",
        "# Cross Entropy loss being the natural selection for the classification task\n",
        "loss_fn = nn.CrossEntropyLoss()\n"
      ],
      "execution_count": 0,
      "outputs": []
    },
    {
      "cell_type": "code",
      "metadata": {
        "id": "tKaLz5uK3mEm",
        "colab_type": "code",
        "colab": {}
      },
      "source": [
        "run_train(onet)"
      ],
      "execution_count": 0,
      "outputs": []
    },
    {
      "cell_type": "markdown",
      "metadata": {
        "id": "tI_-kKBbkeGc",
        "colab_type": "text"
      },
      "source": [
        "on resnet18B + mixnet + cifar100\n",
        "we got:\n",
        "\n",
        ">validation loss: 0.6551\n",
        "\n",
        ">accuracy here is: 77.18"
      ]
    },
    {
      "cell_type": "code",
      "metadata": {
        "id": "u8OZh9CnkbPh",
        "colab_type": "code",
        "colab": {}
      },
      "source": [
        "networks = [resnet18B, mixnet]\n",
        "onet = Onet(networks)\n",
        "onet.to(device)\n",
        "optim = torch.optim.Adam(onet.parameters(), lr=lr)\n"
      ],
      "execution_count": 0,
      "outputs": []
    },
    {
      "cell_type": "code",
      "metadata": {
        "id": "tAUbRHXqktzU",
        "colab_type": "code",
        "colab": {}
      },
      "source": [
        "run_train(onet)"
      ],
      "execution_count": 0,
      "outputs": []
    },
    {
      "cell_type": "markdown",
      "metadata": {
        "id": "-1D4YDZ9pJ4K",
        "colab_type": "text"
      },
      "source": [
        "resnet18B, mixnet:\n",
        "\n",
        "> Validation loss: 1.3916\n",
        "\n",
        "> Validation accuracy: 50.98 %"
      ]
    },
    {
      "cell_type": "code",
      "metadata": {
        "id": "o39AHVNhqSa7",
        "colab_type": "code",
        "colab": {}
      },
      "source": [
        "networks = [resnet18B, cifar100]\n",
        "onet = Onet(networks)\n",
        "onet.to(device)\n",
        "optim = torch.optim.Adam(onet.parameters(), lr=lr)\n",
        "run_train(onet)"
      ],
      "execution_count": 0,
      "outputs": []
    },
    {
      "cell_type": "markdown",
      "metadata": {
        "id": "_B-kGWvMupaW",
        "colab_type": "text"
      },
      "source": [
        "resnet18B, cifar100:\n",
        "\n",
        ">validation loss: 0.6431\n",
        "\n",
        ">validation accuracy: 77.74"
      ]
    },
    {
      "cell_type": "code",
      "metadata": {
        "id": "V20EqpD8rUC1",
        "colab_type": "code",
        "colab": {}
      },
      "source": [
        "networks = [mixnet, cifar100]\n",
        "onet = Onet(networks)\n",
        "onet.to(device)\n",
        "optim = torch.optim.Adam(onet.parameters(), lr=lr)\n",
        "run_train(onet)"
      ],
      "execution_count": 0,
      "outputs": []
    },
    {
      "cell_type": "markdown",
      "metadata": {
        "id": "EUTBhtdUa3GQ",
        "colab_type": "text"
      },
      "source": [
        "Using all 4 networks demonstrated a slight improvment in performance from the best network:\n",
        "\n",
        "> Validation loss: 0.11\n",
        "\n",
        "> Validation accuracy: 97.46 %"
      ]
    },
    {
      "cell_type": "markdown",
      "metadata": {
        "id": "Sg-DPq9DwkvK",
        "colab_type": "text"
      },
      "source": [
        "#Summary:\n",
        "\n",
        "model, loss, accuracy\n",
        "\n",
        "CIFAR100, 0.5378, 81.2\n",
        "\n",
        "mixnet, 1.7438, 40.86\n",
        "\n",
        "resnetB (imagenet), 1.5685, 45.8\n",
        "\n",
        "resnetA (cifar10), 0.12, 97.22\n",
        "\n",
        "resnet18B + mixnet + cifar100, 0.6551, 77.18\n",
        "\n",
        "resnet18B + mixnet, 1.3916, 50.98\n",
        "\n",
        "resnet180B + cifar100, 0.6431, 77.74\n",
        "\n",
        "resnet18A + resnet18B + mixnet + cifar100, 0.11, 97.46\n",
        "\n",
        "mixenet + cifar10, 0.6510, 77.3"
      ]
    },
    {
      "cell_type": "code",
      "metadata": {
        "id": "RxzXem_Fw6LS",
        "colab_type": "code",
        "colab": {}
      },
      "source": [
        "columns = [\"model\", \"loss\", \"accuracy\", \"Accuracy diff from best model [%]\"]\n",
        "data =[\n",
        "[\"cifar-100\", 0.5378, 81.2, 0], \n",
        "[\"mixnet\", 1.7438, 40.86, 0],\n",
        "[\"resnet18\", 1.5685, 45.8, 0],\n",
        "[\"cifar-10\", 0.12, 97.22, 0],\n",
        "[\"resnet18 + mixnet\", 1.3916, 50.98, \"+11.3\"],\n",
        "[\"resnet18 + cifar-100\", 0.6431, 77.74, \"-4.6\"],\n",
        "[\"mixnet + cifar-100\", 0.6510, 77.3, \"-5\"],\n",
        "[\"resnet18 + mixnet + cifar-100\", 0.6551, 77.18, \"-5\"],\n",
        "[\"cifar-10 + resnet18 + mixnet + cifar-100\", 0.11, 97.46, \"+0.01\"],\n",
        "[\"resnet18B + resnet18A + cifar100\",0.1079, 97.06, ]\n",
        "]"
      ],
      "execution_count": 0,
      "outputs": []
    },
    {
      "cell_type": "code",
      "metadata": {
        "id": "cHSwMBiAziAA",
        "colab_type": "code",
        "colab": {
          "base_uri": "https://localhost:8080/",
          "height": 343
        },
        "outputId": "6af84ce1-5afe-41d1-c615-e1c943df7ccf"
      },
      "source": [
        "pd.DataFrame(data, columns=columns)"
      ],
      "execution_count": 5,
      "outputs": [
        {
          "output_type": "execute_result",
          "data": {
            "text/html": [
              "<div>\n",
              "<style scoped>\n",
              "    .dataframe tbody tr th:only-of-type {\n",
              "        vertical-align: middle;\n",
              "    }\n",
              "\n",
              "    .dataframe tbody tr th {\n",
              "        vertical-align: top;\n",
              "    }\n",
              "\n",
              "    .dataframe thead th {\n",
              "        text-align: right;\n",
              "    }\n",
              "</style>\n",
              "<table border=\"1\" class=\"dataframe\">\n",
              "  <thead>\n",
              "    <tr style=\"text-align: right;\">\n",
              "      <th></th>\n",
              "      <th>model</th>\n",
              "      <th>loss</th>\n",
              "      <th>accuracy</th>\n",
              "      <th>Accuracy diff from best model [%]</th>\n",
              "    </tr>\n",
              "  </thead>\n",
              "  <tbody>\n",
              "    <tr>\n",
              "      <th>0</th>\n",
              "      <td>cifar-100</td>\n",
              "      <td>0.5378</td>\n",
              "      <td>81.20</td>\n",
              "      <td>0</td>\n",
              "    </tr>\n",
              "    <tr>\n",
              "      <th>1</th>\n",
              "      <td>mixnet</td>\n",
              "      <td>1.7438</td>\n",
              "      <td>40.86</td>\n",
              "      <td>0</td>\n",
              "    </tr>\n",
              "    <tr>\n",
              "      <th>2</th>\n",
              "      <td>resnet18</td>\n",
              "      <td>1.5685</td>\n",
              "      <td>45.80</td>\n",
              "      <td>0</td>\n",
              "    </tr>\n",
              "    <tr>\n",
              "      <th>3</th>\n",
              "      <td>cifar-10</td>\n",
              "      <td>0.1200</td>\n",
              "      <td>97.22</td>\n",
              "      <td>0</td>\n",
              "    </tr>\n",
              "    <tr>\n",
              "      <th>4</th>\n",
              "      <td>resnet18 + mixnet</td>\n",
              "      <td>1.3916</td>\n",
              "      <td>50.98</td>\n",
              "      <td>+11.3</td>\n",
              "    </tr>\n",
              "    <tr>\n",
              "      <th>5</th>\n",
              "      <td>resnet18 + cifar-100</td>\n",
              "      <td>0.6431</td>\n",
              "      <td>77.74</td>\n",
              "      <td>-4.6</td>\n",
              "    </tr>\n",
              "    <tr>\n",
              "      <th>6</th>\n",
              "      <td>mixnet + cifar-100</td>\n",
              "      <td>0.6510</td>\n",
              "      <td>77.30</td>\n",
              "      <td>-5</td>\n",
              "    </tr>\n",
              "    <tr>\n",
              "      <th>7</th>\n",
              "      <td>resnet18 + mixnet + cifar-100</td>\n",
              "      <td>0.6551</td>\n",
              "      <td>77.18</td>\n",
              "      <td>-5</td>\n",
              "    </tr>\n",
              "    <tr>\n",
              "      <th>8</th>\n",
              "      <td>cifar-10 + resnet18 + mixnet + cifar-100</td>\n",
              "      <td>0.1100</td>\n",
              "      <td>97.46</td>\n",
              "      <td>+0.01</td>\n",
              "    </tr>\n",
              "    <tr>\n",
              "      <th>9</th>\n",
              "      <td>resnet18B + resnet18A + cifar100</td>\n",
              "      <td>0.1079</td>\n",
              "      <td>97.06</td>\n",
              "      <td>None</td>\n",
              "    </tr>\n",
              "  </tbody>\n",
              "</table>\n",
              "</div>"
            ],
            "text/plain": [
              "                                      model  ...  Accuracy diff from best model [%]\n",
              "0                                 cifar-100  ...                                  0\n",
              "1                                    mixnet  ...                                  0\n",
              "2                                  resnet18  ...                                  0\n",
              "3                                  cifar-10  ...                                  0\n",
              "4                         resnet18 + mixnet  ...                              +11.3\n",
              "5                      resnet18 + cifar-100  ...                               -4.6\n",
              "6                        mixnet + cifar-100  ...                                 -5\n",
              "7             resnet18 + mixnet + cifar-100  ...                                 -5\n",
              "8  cifar-10 + resnet18 + mixnet + cifar-100  ...                              +0.01\n",
              "9          resnet18B + resnet18A + cifar100  ...                               None\n",
              "\n",
              "[10 rows x 4 columns]"
            ]
          },
          "metadata": {
            "tags": []
          },
          "execution_count": 5
        }
      ]
    },
    {
      "cell_type": "code",
      "metadata": {
        "id": "piMprCGNaZVa",
        "colab_type": "code",
        "colab": {}
      },
      "source": [
        "#Save model\n",
        "torch.save(onet.state_dict(), '/content/weights/onet_resnet18_4legs.pt')\n",
        "!cp /content/weights/onet_resnet18_4legs.pt /content/gdrive/My\\ Drive/weights/"
      ],
      "execution_count": 0,
      "outputs": []
    },
    {
      "cell_type": "code",
      "metadata": {
        "id": "8jlqxRpoH8aQ",
        "colab_type": "code",
        "colab": {}
      },
      "source": [
        "#Checking results on the test set\n",
        "validate(onet, test) "
      ],
      "execution_count": 0,
      "outputs": []
    }
  ]
}